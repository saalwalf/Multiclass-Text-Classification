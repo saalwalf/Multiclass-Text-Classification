{
 "cells": [
  {
   "cell_type": "code",
   "execution_count": 26,
   "metadata": {},
   "outputs": [],
   "source": [
    "from transformers import BertTokenizer, BertForSequenceClassification, Trainer, TrainingArguments\n",
    "from sklearn.model_selection import train_test_split\n",
    "from sklearn.preprocessing import LabelEncoder\n",
    "from sklearn.metrics import accuracy_score, balanced_accuracy_score, classification_report\n",
    "import torch\n",
    "import pandas as pd\n",
    "import torch.nn.functional as F"
   ]
  },
  {
   "cell_type": "code",
   "execution_count": 28,
   "metadata": {},
   "outputs": [],
   "source": [
    "df = pd.read_csv('C:/Users/USER/Documents/semester 2/python/bdc 2024/penyisihan/dataset/dataset_penyisihan_bdc.csv')"
   ]
  },
  {
   "cell_type": "code",
   "execution_count": 30,
   "metadata": {},
   "outputs": [],
   "source": [
    "import re\n",
    "import pandas as pd\n",
    "from nltk.corpus import stopwords\n",
    "from Sastrawi.Stemmer.StemmerFactory import StemmerFactory\n",
    "from transformers import BertTokenizer\n",
    "from indoNLP.preprocessing import replace_slang, replace_word_elongation\n",
    "\n",
    "# Definisikan fungsi preprocessing\n",
    "def preprocess(data, text_column):\n",
    "    # Mengubah teks menjadi huruf kecil, menghilangkan spasi berlebih, dan menghapus baris baru\n",
    "    data[text_column] = data[text_column].apply(lambda x: x.lower().strip().replace('\\n', ' ').replace('\\r', ' '))\n",
    "    \n",
    "    # Normalisasi ejaan dan menghapus elongasi\n",
    "    data[text_column] = data[text_column].apply(replace_slang)\n",
    "    data[text_column] = data[text_column].apply(replace_word_elongation)\n",
    "    \n",
    "    # Menghapus pola tertentu seperti retweet, mentions, URLs, dan hashtags\n",
    "    data[text_column] = data[text_column].apply(lambda x: re.sub(r're \\S+', '', x))\n",
    "    data[text_column] = data[text_column].apply(lambda x: re.sub(r'@\\S+', '', x))\n",
    "    data[text_column] = data[text_column].apply(lambda x: re.sub(r'https?://\\S+|www\\.\\S+', '', x))\n",
    "    data[text_column] = data[text_column].apply(lambda x: re.sub(r'#\\S+', '', x))\n",
    "    \n",
    "    # Menghapus karakter non-alphabet dan menghapus karakter non-ASCII\n",
    "    data[text_column] = data[text_column].apply(lambda x: re.sub(r'[^a-zA-Z\\s]', ' ', x))\n",
    "    data[text_column] = data[text_column].apply(lambda x: re.sub(r'[^\\x00-\\x7F]+', '', x))\n",
    "    \n",
    "    # Menambahkan stopwords dan kata-kata umum yang tidak diinginkan\n",
    "    stop = set(stopwords.words('indonesian'))\n",
    "    kata_umum = {'rt', 'anies', 'baswedan', 'ganjar', 'pranowo', 'prof', 'mahfud', 'md', \n",
    "                 'prabowo', 'gibran', 'subianto', 'abah', 'amin', 'yg', 'dkk', 'utk', \n",
    "                 'ga', 'nggak', 'gua', 'dgn', 'udah', 'dl', 'dr', 'gw', 'terima kasih',\n",
    "                 'ya', 'doang', 'nya', 'lu', 'videotron', 'gm', 'sih', 'gak', 'cak imin', \n",
    "                 'aja', 'lupa'}\n",
    "    stop.update(kata_umum)\n",
    "\n",
    "    # Stemmer untuk bahasa Indonesia\n",
    "    factory = StemmerFactory()\n",
    "    stemmer = factory.create_stemmer()\n",
    "\n",
    "    # Fungsi untuk membersihkan dan memproses teks\n",
    "    def process_text(text):\n",
    "        # Menghapus stop words\n",
    "        words = [word for word in text.split() if word not in stop]\n",
    "        \n",
    "        # Stemming\n",
    "        words = [stemmer.stem(word) for word in words]\n",
    "        \n",
    "        # Gabungkan kembali kata-kata menjadi string\n",
    "        return \" \".join(words)\n",
    "\n",
    "    data[text_column] = data[text_column].apply(process_text)\n",
    "\n",
    "    return data"
   ]
  },
  {
   "cell_type": "code",
   "execution_count": 32,
   "metadata": {},
   "outputs": [],
   "source": [
    "preprocess(df, 'text').to_csv(\"C:/Users/USER/Downloads/labeled preprocessed.csv\")"
   ]
  },
  {
   "cell_type": "code",
   "execution_count": 33,
   "metadata": {},
   "outputs": [
    {
     "data": {
      "text/html": [
       "<div>\n",
       "<style scoped>\n",
       "    .dataframe tbody tr th:only-of-type {\n",
       "        vertical-align: middle;\n",
       "    }\n",
       "\n",
       "    .dataframe tbody tr th {\n",
       "        vertical-align: top;\n",
       "    }\n",
       "\n",
       "    .dataframe thead th {\n",
       "        text-align: right;\n",
       "    }\n",
       "</style>\n",
       "<table border=\"1\" class=\"dataframe\">\n",
       "  <thead>\n",
       "    <tr style=\"text-align: right;\">\n",
       "      <th></th>\n",
       "      <th>text</th>\n",
       "      <th>label</th>\n",
       "    </tr>\n",
       "  </thead>\n",
       "  <tbody>\n",
       "    <tr>\n",
       "      <th>0</th>\n",
       "      <td>kunjung resmi serah proyek bantu air bersih titik</td>\n",
       "      <td>Sumber Daya Alam</td>\n",
       "    </tr>\n",
       "    <tr>\n",
       "      <th>1</th>\n",
       "      <td>tepuk tangan riah rektor wajib mata kuliah ant...</td>\n",
       "      <td>Politik</td>\n",
       "    </tr>\n",
       "    <tr>\n",
       "      <th>2</th>\n",
       "      <td>dukung goblok dukung ridwan kamil skema balik ...</td>\n",
       "      <td>Demografi</td>\n",
       "    </tr>\n",
       "    <tr>\n",
       "      <th>3</th>\n",
       "      <td>sikap kritis kerja anggap sopan anggap hormat ...</td>\n",
       "      <td>Politik</td>\n",
       "    </tr>\n",
       "    <tr>\n",
       "      <th>4</th>\n",
       "      <td>harap asn tni polri pegang sumpah milu</td>\n",
       "      <td>Politik</td>\n",
       "    </tr>\n",
       "    <tr>\n",
       "      <th>...</th>\n",
       "      <td>...</td>\n",
       "      <td>...</td>\n",
       "    </tr>\n",
       "    <tr>\n",
       "      <th>4995</th>\n",
       "      <td>debat kemarin pas kicep kira keluarga laku aks...</td>\n",
       "      <td>Politik</td>\n",
       "    </tr>\n",
       "    <tr>\n",
       "      <th>4996</th>\n",
       "      <td>masyarakat milik visi jalan aspirasi rakyat ra...</td>\n",
       "      <td>Politik</td>\n",
       "    </tr>\n",
       "    <tr>\n",
       "      <th>4997</th>\n",
       "      <td>imo both a but irrational tbh but nevertheles ...</td>\n",
       "      <td>Ekonomi</td>\n",
       "    </tr>\n",
       "    <tr>\n",
       "      <th>4998</th>\n",
       "      <td>look at that kecimpung lgislatif eksekutif bhk...</td>\n",
       "      <td>Pertahanan dan Keamanan</td>\n",
       "    </tr>\n",
       "    <tr>\n",
       "      <th>4999</th>\n",
       "      <td>acara masak calon presiden nomor urut habis in...</td>\n",
       "      <td>Sumber Daya Alam</td>\n",
       "    </tr>\n",
       "  </tbody>\n",
       "</table>\n",
       "<p>5000 rows × 2 columns</p>\n",
       "</div>"
      ],
      "text/plain": [
       "                                                   text  \\\n",
       "0     kunjung resmi serah proyek bantu air bersih titik   \n",
       "1     tepuk tangan riah rektor wajib mata kuliah ant...   \n",
       "2     dukung goblok dukung ridwan kamil skema balik ...   \n",
       "3     sikap kritis kerja anggap sopan anggap hormat ...   \n",
       "4                harap asn tni polri pegang sumpah milu   \n",
       "...                                                 ...   \n",
       "4995  debat kemarin pas kicep kira keluarga laku aks...   \n",
       "4996  masyarakat milik visi jalan aspirasi rakyat ra...   \n",
       "4997  imo both a but irrational tbh but nevertheles ...   \n",
       "4998  look at that kecimpung lgislatif eksekutif bhk...   \n",
       "4999  acara masak calon presiden nomor urut habis in...   \n",
       "\n",
       "                        label  \n",
       "0            Sumber Daya Alam  \n",
       "1                     Politik  \n",
       "2                   Demografi  \n",
       "3                     Politik  \n",
       "4                     Politik  \n",
       "...                       ...  \n",
       "4995                  Politik  \n",
       "4996                  Politik  \n",
       "4997                  Ekonomi  \n",
       "4998  Pertahanan dan Keamanan  \n",
       "4999         Sumber Daya Alam  \n",
       "\n",
       "[5000 rows x 2 columns]"
      ]
     },
     "execution_count": 33,
     "metadata": {},
     "output_type": "execute_result"
    }
   ],
   "source": [
    "df"
   ]
  },
  {
   "cell_type": "code",
   "execution_count": 35,
   "metadata": {},
   "outputs": [],
   "source": [
    "from sklearn.preprocessing import LabelEncoder\n",
    "\n",
    "le = LabelEncoder()\n",
    "df['label'] = le.fit_transform(df['label'])"
   ]
  },
  {
   "cell_type": "code",
   "execution_count": 36,
   "metadata": {},
   "outputs": [],
   "source": [
    "tokenizer = BertTokenizer.from_pretrained('cahya/bert-base-indonesian-522M')\n",
    "def tokenize_text(texts, labels):\n",
    "    inputs = tokenizer(texts, padding=True, truncation=True, max_length=128, return_tensors='pt')\n",
    "    labels = torch.tensor(labels, dtype=torch.long)\n",
    "    return inputs, labels"
   ]
  },
  {
   "cell_type": "code",
   "execution_count": 46,
   "metadata": {},
   "outputs": [],
   "source": [
    "train, test = train_test_split(df, test_size=0.3, random_state=42, stratify=df['label'])\n",
    "val_data, test_data = train_test_split(test, test_size=0.5, random_state=42, stratify=test['label'])"
   ]
  },
  {
   "cell_type": "code",
   "execution_count": 47,
   "metadata": {},
   "outputs": [],
   "source": [
    "train_inputs, train_labels = tokenize_text(list(train['text']), list(train['label']))\n",
    "test_inputs, test_labels = tokenize_text(list(test_data['text']), list(test_data['label']))\n",
    "val_inputs, val_labels = tokenize_text(list(val_data['text']), list(val_data['label']))"
   ]
  },
  {
   "cell_type": "code",
   "execution_count": 48,
   "metadata": {},
   "outputs": [],
   "source": [
    "class TweetDataset(torch.utils.data.Dataset):\n",
    "    def __init__(self, texts, labels):\n",
    "        self.texts = texts\n",
    "        self.labels = labels\n",
    "\n",
    "    def __len__(self):\n",
    "        return len(self.labels)\n",
    "\n",
    "    def __getitem__(self, idx):\n",
    "        item = {'input_ids': self.texts['input_ids'][idx],\n",
    "                'attention_mask': self.texts['attention_mask'][idx],\n",
    "                'label': self.labels[idx]}\n",
    "        return item"
   ]
  },
  {
   "cell_type": "code",
   "execution_count": 50,
   "metadata": {},
   "outputs": [
    {
     "name": "stderr",
     "output_type": "stream",
     "text": [
      "Some weights of BertForSequenceClassification were not initialized from the model checkpoint at cahya/bert-base-indonesian-522M and are newly initialized: ['classifier.bias', 'classifier.weight']\n",
      "You should probably TRAIN this model on a down-stream task to be able to use it for predictions and inference.\n"
     ]
    }
   ],
   "source": [
    "model = BertForSequenceClassification.from_pretrained('cahya/bert-base-indonesian-522M', num_labels=len(le.classes_))"
   ]
  },
  {
   "cell_type": "code",
   "execution_count": 49,
   "metadata": {},
   "outputs": [],
   "source": [
    "train_dataset = TweetDataset(train_inputs, train_labels)\n",
    "test_dataset = TweetDataset(test_inputs, test_labels)\n",
    "val_dataset = TweetDataset(val_inputs, val_labels)"
   ]
  },
  {
   "cell_type": "code",
   "execution_count": 51,
   "metadata": {},
   "outputs": [],
   "source": [
    "training_args = TrainingArguments(\n",
    "    output_dir='./results_4',\n",
    "    num_train_epochs=3,\n",
    "    per_device_train_batch_size=16,\n",
    "    per_device_eval_batch_size=16,\n",
    "    warmup_steps=500,\n",
    "    weight_decay=0.01,\n",
    "    logging_dir='./logs_4',\n",
    "    logging_steps=10,\n",
    ")"
   ]
  },
  {
   "cell_type": "code",
   "execution_count": 52,
   "metadata": {},
   "outputs": [],
   "source": [
    "def compute_metrics(p):\n",
    "    preds = p.predictions.argmax(-1)\n",
    "    accuracy = (preds == p.label_ids).astype(float).mean()\n",
    "    balanced_acc = balanced_accuracy_score(p.label_ids, preds)\n",
    "    return {\n",
    "        \"accuracy\": accuracy,\n",
    "        \"balanced_accuracy\": balanced_acc\n",
    "    }"
   ]
  },
  {
   "cell_type": "code",
   "execution_count": 53,
   "metadata": {},
   "outputs": [],
   "source": [
    "trainer = Trainer(\n",
    "    model=model,\n",
    "    args=training_args,\n",
    "    train_dataset=train_dataset,\n",
    "    eval_dataset=val_dataset,\n",
    "    compute_metrics=compute_metrics\n",
    ")"
   ]
  },
  {
   "cell_type": "code",
   "execution_count": 54,
   "metadata": {},
   "outputs": [
    {
     "data": {
      "application/vnd.jupyter.widget-view+json": {
       "model_id": "4bdc5df569114cc0bd5299cc86822c8e",
       "version_major": 2,
       "version_minor": 0
      },
      "text/plain": [
       "  0%|          | 0/657 [00:00<?, ?it/s]"
      ]
     },
     "metadata": {},
     "output_type": "display_data"
    },
    {
     "name": "stdout",
     "output_type": "stream",
     "text": [
      "{'loss': 2.052, 'grad_norm': 10.261983871459961, 'learning_rate': 1.0000000000000002e-06, 'epoch': 0.05}\n",
      "{'loss': 1.9347, 'grad_norm': 11.544153213500977, 'learning_rate': 2.0000000000000003e-06, 'epoch': 0.09}\n",
      "{'loss': 1.7461, 'grad_norm': 5.375725746154785, 'learning_rate': 3e-06, 'epoch': 0.14}\n",
      "{'loss': 1.4767, 'grad_norm': 4.141409397125244, 'learning_rate': 4.000000000000001e-06, 'epoch': 0.18}\n",
      "{'loss': 1.3864, 'grad_norm': 6.79132604598999, 'learning_rate': 5e-06, 'epoch': 0.23}\n",
      "{'loss': 1.397, 'grad_norm': 3.804833173751831, 'learning_rate': 6e-06, 'epoch': 0.27}\n",
      "{'loss': 1.4592, 'grad_norm': 4.333863258361816, 'learning_rate': 7.000000000000001e-06, 'epoch': 0.32}\n",
      "{'loss': 1.1507, 'grad_norm': 6.354887008666992, 'learning_rate': 8.000000000000001e-06, 'epoch': 0.37}\n",
      "{'loss': 1.3755, 'grad_norm': 5.791021347045898, 'learning_rate': 9e-06, 'epoch': 0.41}\n",
      "{'loss': 1.2518, 'grad_norm': 5.818059921264648, 'learning_rate': 1e-05, 'epoch': 0.46}\n",
      "{'loss': 1.3897, 'grad_norm': 4.591271877288818, 'learning_rate': 1.1000000000000001e-05, 'epoch': 0.5}\n",
      "{'loss': 1.2862, 'grad_norm': 4.276614189147949, 'learning_rate': 1.2e-05, 'epoch': 0.55}\n",
      "{'loss': 1.1157, 'grad_norm': 7.192293167114258, 'learning_rate': 1.3000000000000001e-05, 'epoch': 0.59}\n",
      "{'loss': 1.0892, 'grad_norm': 4.835147857666016, 'learning_rate': 1.4000000000000001e-05, 'epoch': 0.64}\n",
      "{'loss': 1.053, 'grad_norm': 7.245921611785889, 'learning_rate': 1.5e-05, 'epoch': 0.68}\n",
      "{'loss': 1.179, 'grad_norm': 7.912818908691406, 'learning_rate': 1.6000000000000003e-05, 'epoch': 0.73}\n",
      "{'loss': 0.9737, 'grad_norm': 7.491186618804932, 'learning_rate': 1.7000000000000003e-05, 'epoch': 0.78}\n",
      "{'loss': 0.9364, 'grad_norm': 10.532655715942383, 'learning_rate': 1.8e-05, 'epoch': 0.82}\n",
      "{'loss': 0.9303, 'grad_norm': 7.150240898132324, 'learning_rate': 1.9e-05, 'epoch': 0.87}\n",
      "{'loss': 1.032, 'grad_norm': 5.401437759399414, 'learning_rate': 2e-05, 'epoch': 0.91}\n",
      "{'loss': 1.0672, 'grad_norm': 6.878721237182617, 'learning_rate': 2.1e-05, 'epoch': 0.96}\n",
      "{'loss': 0.816, 'grad_norm': 7.263720512390137, 'learning_rate': 2.2000000000000003e-05, 'epoch': 1.0}\n",
      "{'loss': 0.8521, 'grad_norm': 5.544273853302002, 'learning_rate': 2.3000000000000003e-05, 'epoch': 1.05}\n",
      "{'loss': 0.9485, 'grad_norm': 7.731046199798584, 'learning_rate': 2.4e-05, 'epoch': 1.1}\n",
      "{'loss': 0.7675, 'grad_norm': 7.25663948059082, 'learning_rate': 2.5e-05, 'epoch': 1.14}\n",
      "{'loss': 0.7362, 'grad_norm': 5.149250030517578, 'learning_rate': 2.6000000000000002e-05, 'epoch': 1.19}\n",
      "{'loss': 0.6689, 'grad_norm': 10.323086738586426, 'learning_rate': 2.7000000000000002e-05, 'epoch': 1.23}\n",
      "{'loss': 0.8645, 'grad_norm': 6.6012678146362305, 'learning_rate': 2.8000000000000003e-05, 'epoch': 1.28}\n",
      "{'loss': 0.8341, 'grad_norm': 9.013465881347656, 'learning_rate': 2.9e-05, 'epoch': 1.32}\n",
      "{'loss': 0.7349, 'grad_norm': 8.799245834350586, 'learning_rate': 3e-05, 'epoch': 1.37}\n",
      "{'loss': 0.9968, 'grad_norm': 7.733330726623535, 'learning_rate': 3.1e-05, 'epoch': 1.42}\n",
      "{'loss': 1.061, 'grad_norm': 6.424583911895752, 'learning_rate': 3.2000000000000005e-05, 'epoch': 1.46}\n",
      "{'loss': 0.8594, 'grad_norm': 5.646280288696289, 'learning_rate': 3.3e-05, 'epoch': 1.51}\n",
      "{'loss': 0.838, 'grad_norm': 12.532633781433105, 'learning_rate': 3.4000000000000007e-05, 'epoch': 1.55}\n",
      "{'loss': 0.6734, 'grad_norm': 10.737895965576172, 'learning_rate': 3.5e-05, 'epoch': 1.6}\n",
      "{'loss': 0.6892, 'grad_norm': 14.752819061279297, 'learning_rate': 3.6e-05, 'epoch': 1.64}\n",
      "{'loss': 0.6665, 'grad_norm': 5.829937934875488, 'learning_rate': 3.7e-05, 'epoch': 1.69}\n",
      "{'loss': 0.732, 'grad_norm': 3.4918463230133057, 'learning_rate': 3.8e-05, 'epoch': 1.74}\n",
      "{'loss': 0.6611, 'grad_norm': 13.217430114746094, 'learning_rate': 3.9000000000000006e-05, 'epoch': 1.78}\n",
      "{'loss': 0.9516, 'grad_norm': 10.066854476928711, 'learning_rate': 4e-05, 'epoch': 1.83}\n",
      "{'loss': 0.7332, 'grad_norm': 8.612465858459473, 'learning_rate': 4.1e-05, 'epoch': 1.87}\n",
      "{'loss': 0.8972, 'grad_norm': 12.465620040893555, 'learning_rate': 4.2e-05, 'epoch': 1.92}\n",
      "{'loss': 0.705, 'grad_norm': 11.242008209228516, 'learning_rate': 4.3e-05, 'epoch': 1.96}\n",
      "{'loss': 0.7282, 'grad_norm': 9.824505805969238, 'learning_rate': 4.4000000000000006e-05, 'epoch': 2.01}\n",
      "{'loss': 0.4841, 'grad_norm': 9.612897872924805, 'learning_rate': 4.5e-05, 'epoch': 2.05}\n",
      "{'loss': 0.6299, 'grad_norm': 8.97063159942627, 'learning_rate': 4.600000000000001e-05, 'epoch': 2.1}\n",
      "{'loss': 0.5421, 'grad_norm': 8.616849899291992, 'learning_rate': 4.7e-05, 'epoch': 2.15}\n",
      "{'loss': 0.6466, 'grad_norm': 7.194361686706543, 'learning_rate': 4.8e-05, 'epoch': 2.19}\n",
      "{'loss': 0.4342, 'grad_norm': 5.094861030578613, 'learning_rate': 4.9e-05, 'epoch': 2.24}\n",
      "{'loss': 0.6591, 'grad_norm': 8.646378517150879, 'learning_rate': 5e-05, 'epoch': 2.28}\n",
      "{'loss': 0.528, 'grad_norm': 6.393311023712158, 'learning_rate': 4.681528662420383e-05, 'epoch': 2.33}\n",
      "{'loss': 0.6618, 'grad_norm': 17.711767196655273, 'learning_rate': 4.3630573248407646e-05, 'epoch': 2.37}\n",
      "{'loss': 0.5961, 'grad_norm': 12.294260025024414, 'learning_rate': 4.044585987261147e-05, 'epoch': 2.42}\n",
      "{'loss': 0.5113, 'grad_norm': 5.938749313354492, 'learning_rate': 3.7261146496815283e-05, 'epoch': 2.47}\n",
      "{'loss': 0.6591, 'grad_norm': 6.970308780670166, 'learning_rate': 3.407643312101911e-05, 'epoch': 2.51}\n",
      "{'loss': 0.6563, 'grad_norm': 11.23912525177002, 'learning_rate': 3.089171974522293e-05, 'epoch': 2.56}\n",
      "{'loss': 0.4703, 'grad_norm': 10.031228065490723, 'learning_rate': 2.7707006369426753e-05, 'epoch': 2.6}\n",
      "{'loss': 0.7667, 'grad_norm': 8.925982475280762, 'learning_rate': 2.4522292993630575e-05, 'epoch': 2.65}\n",
      "{'loss': 0.519, 'grad_norm': 8.106748580932617, 'learning_rate': 2.1337579617834397e-05, 'epoch': 2.69}\n",
      "{'loss': 0.6316, 'grad_norm': 9.737434387207031, 'learning_rate': 1.8152866242038215e-05, 'epoch': 2.74}\n",
      "{'loss': 0.6162, 'grad_norm': 7.2618560791015625, 'learning_rate': 1.4968152866242039e-05, 'epoch': 2.79}\n",
      "{'loss': 0.5847, 'grad_norm': 7.009767532348633, 'learning_rate': 1.178343949044586e-05, 'epoch': 2.83}\n",
      "{'loss': 0.5518, 'grad_norm': 11.367874145507812, 'learning_rate': 8.598726114649681e-06, 'epoch': 2.88}\n",
      "{'loss': 0.5473, 'grad_norm': 14.675850868225098, 'learning_rate': 5.414012738853504e-06, 'epoch': 2.92}\n",
      "{'loss': 0.4236, 'grad_norm': 10.107192993164062, 'learning_rate': 2.229299363057325e-06, 'epoch': 2.97}\n",
      "{'train_runtime': 4324.6649, 'train_samples_per_second': 2.428, 'train_steps_per_second': 0.152, 'train_loss': 0.8861043369751905, 'epoch': 3.0}\n"
     ]
    },
    {
     "data": {
      "text/plain": [
       "TrainOutput(global_step=657, training_loss=0.8861043369751905, metrics={'train_runtime': 4324.6649, 'train_samples_per_second': 2.428, 'train_steps_per_second': 0.152, 'total_flos': 690703727616000.0, 'train_loss': 0.8861043369751905, 'epoch': 3.0})"
      ]
     },
     "execution_count": 54,
     "metadata": {},
     "output_type": "execute_result"
    }
   ],
   "source": [
    "trainer.train()"
   ]
  },
  {
   "cell_type": "code",
   "execution_count": 55,
   "metadata": {},
   "outputs": [],
   "source": [
    "# Simpan model dan tokenizer\n",
    "model.save_pretrained(\"./saved_model_4\")\n",
    "tokenizer.save_pretrained(\"./saved_model_4\")\n",
    "\n",
    "# Atau simpan state dari trainer\n",
    "trainer.save_state()"
   ]
  },
  {
   "cell_type": "code",
   "execution_count": 56,
   "metadata": {},
   "outputs": [],
   "source": [
    "model = BertForSequenceClassification.from_pretrained('./saved_model_4')\n",
    "tokenizer = BertTokenizer.from_pretrained('./saved_model_4')"
   ]
  },
  {
   "cell_type": "code",
   "execution_count": 57,
   "metadata": {},
   "outputs": [],
   "source": [
    "with torch.no_grad():\n",
    "    outputs = model(**test_inputs)\n",
    "    logits = outputs.logits\n",
    "    predictions = torch.argmax(logits, dim=-1)"
   ]
  },
  {
   "cell_type": "code",
   "execution_count": 58,
   "metadata": {},
   "outputs": [],
   "source": [
    "predicted_labels = le.inverse_transform(predictions.numpy())"
   ]
  },
  {
   "cell_type": "code",
   "execution_count": 59,
   "metadata": {},
   "outputs": [],
   "source": [
    "pred = pd.DataFrame(predicted_labels)[0]"
   ]
  },
  {
   "cell_type": "code",
   "execution_count": 61,
   "metadata": {},
   "outputs": [],
   "source": [
    "asli = le.inverse_transform(test_labels)"
   ]
  },
  {
   "cell_type": "code",
   "execution_count": 62,
   "metadata": {},
   "outputs": [
    {
     "name": "stdout",
     "output_type": "stream",
     "text": [
      "Balanced Accuracy Score: 0.46825251987132077\n",
      "                         precision    recall  f1-score   support\n",
      "\n",
      "              Demografi       0.00      0.00      0.00        10\n",
      "                Ekonomi       0.74      0.71      0.72        55\n",
      "               Geografi       0.00      0.00      0.00         3\n",
      "               Ideologi       0.76      0.43      0.55        60\n",
      "Pertahanan dan Keamanan       0.71      0.73      0.72        60\n",
      "                Politik       0.78      0.87      0.82       445\n",
      "          Sosial Budaya       0.60      0.56      0.58        88\n",
      "       Sumber Daya Alam       0.57      0.45      0.50        29\n",
      "\n",
      "               accuracy                           0.74       750\n",
      "              macro avg       0.52      0.47      0.49       750\n",
      "           weighted avg       0.73      0.74      0.73       750\n",
      "\n"
     ]
    },
    {
     "name": "stderr",
     "output_type": "stream",
     "text": [
      "c:\\Users\\USER\\AppData\\Local\\Programs\\Python\\Python312\\Lib\\site-packages\\sklearn\\metrics\\_classification.py:1509: UndefinedMetricWarning: Precision is ill-defined and being set to 0.0 in labels with no predicted samples. Use `zero_division` parameter to control this behavior.\n",
      "  _warn_prf(average, modifier, f\"{metric.capitalize()} is\", len(result))\n",
      "c:\\Users\\USER\\AppData\\Local\\Programs\\Python\\Python312\\Lib\\site-packages\\sklearn\\metrics\\_classification.py:1509: UndefinedMetricWarning: Precision is ill-defined and being set to 0.0 in labels with no predicted samples. Use `zero_division` parameter to control this behavior.\n",
      "  _warn_prf(average, modifier, f\"{metric.capitalize()} is\", len(result))\n",
      "c:\\Users\\USER\\AppData\\Local\\Programs\\Python\\Python312\\Lib\\site-packages\\sklearn\\metrics\\_classification.py:1509: UndefinedMetricWarning: Precision is ill-defined and being set to 0.0 in labels with no predicted samples. Use `zero_division` parameter to control this behavior.\n",
      "  _warn_prf(average, modifier, f\"{metric.capitalize()} is\", len(result))\n"
     ]
    }
   ],
   "source": [
    "print(f'Balanced Accuracy Score: {balanced_accuracy_score(asli, pred)}')\n",
    "print(classification_report(asli, pred))"
   ]
  },
  {
   "cell_type": "code",
   "execution_count": 64,
   "metadata": {},
   "outputs": [
    {
     "data": {
      "image/png": "[encoded data removed]",
      "text/plain": [
       "<Figure size 640x480 with 2 Axes>"
      ]
     },
     "metadata": {},
     "output_type": "display_data"
    },
    {
     "data": {
      "text/plain": [
       "<Figure size 1000x700 with 0 Axes>"
      ]
     },
     "metadata": {},
     "output_type": "display_data"
    }
   ],
   "source": [
    "from sklearn import metrics\n",
    "import matplotlib.pyplot as plt\n",
    "import seaborn as sns\n",
    "cnf_matrix = metrics.confusion_matrix(asli, pred)\n",
    "cnf_matrix = pd.DataFrame(cnf_matrix)\n",
    "sns.set(font_scale=1.3)\n",
    "axis = plt.axes()\n",
    "plt.figure(figsize=(10,7))\n",
    "axis.set_title('Confusion Matrix')\n",
    "sns.heatmap(cnf_matrix, annot=True, fmt='g', ax=axis, cmap='YlGnBu')\n",
    "plt.show()"
   ]
  },
  {
   "cell_type": "code",
   "execution_count": null,
   "metadata": {},
   "outputs": [],
   "source": []
  }
 ],
 "metadata": {
  "kernelspec": {
   "display_name": "Python 3",
   "language": "python",
   "name": "python3"
  },
  "language_info": {
   "codemirror_mode": {
    "name": "ipython",
    "version": 3
   },
   "file_extension": ".py",
   "mimetype": "text/x-python",
   "name": "python",
   "nbconvert_exporter": "python",
   "pygments_lexer": "ipython3",
   "version": "3.12.2"
  }
 },
 "nbformat": 4,
 "nbformat_minor": 2
}
